{
 "cells": [
  {
   "cell_type": "code",
   "execution_count": 1,
   "id": "c12c0211-95ca-4507-894c-5c560875fd6a",
   "metadata": {},
   "outputs": [],
   "source": [
    "import os, sys\n",
    "module_path = os.path.abspath(os.path.join('../'))\n",
    "if module_path not in sys.path:\n",
    "    sys.path.append(module_path)\n",
    "    \n",
    "os.environ['PRJ'] = \"/Users/ymohit/skigp/\"\n",
    "\n",
    "import math\n",
    "import scipy\n",
    "import numpy as np\n",
    "import fastmat as fm\n",
    "\n",
    "import matplotlib.gridspec as gridspec\n",
    "import warnings\n",
    "warnings.simplefilter('ignore')\n",
    "warnings.filterwarnings(\"ignore\")\n",
    "from pylab import rcParams\n",
    "from matplotlib import pyplot as plt\n",
    "from IPython.core.display import  HTML\n",
    "\n",
    "np.random.seed(1337)\n",
    "%matplotlib inline\n",
    "%load_ext autoreload\n",
    "%autoreload 2"
   ]
  },
  {
   "cell_type": "code",
   "execution_count": 2,
   "id": "4bdc5bb0-5aa8-4f76-a785-d4a78cd42906",
   "metadata": {},
   "outputs": [
    {
     "name": "stdout",
     "output_type": "stream",
     "text": [
      "\n",
      "## You are using the Python ARM Radar Toolkit (Py-ART), an open source\n",
      "## library for working with weather radar data. Py-ART is partly\n",
      "## supported by the U.S. Department of Energy as part of the Atmospheric\n",
      "## Radiation Measurement (ARM) Climate Research Facility, an Office of\n",
      "## Science user facility.\n",
      "##\n",
      "## If you use this software to prepare a publication, please cite:\n",
      "##\n",
      "##     JJ Helmus and SM Collis, JORS 2016, doi: 10.5334/jors.119\n",
      "\n"
     ]
    }
   ],
   "source": [
    "## Loading modules from source \n",
    "warnings.filterwarnings('ignore')\n",
    "warnings.simplefilter('ignore')\n",
    "\n",
    "from fkigp.dataloader import DataLoader\n",
    "from fkigp.configs import DatasetType, Structdict, Frameworks, GsGPType\n",
    "from fkigp.gps.kernels import ScaleKernel, RBFKernel, GridInterpolationKernel\n",
    "from fkigp.gps.constraints import softplus, DEFAULT_SOFTPLUS_VALUE\n",
    "from fkigp.gridutils import get_basis\n",
    "from fkigp.gps.gpbase import GpModel\n",
    "from fkigp.gps.gpoperators import KissGpLinearOperator, GsGpLinearOperator\n",
    "\n",
    "warnings.filterwarnings('ignore')\n",
    "warnings.simplefilter('ignore')"
   ]
  },
  {
   "cell_type": "markdown",
   "id": "674073fd-0f99-4df8-b87b-6c7db29c1f08",
   "metadata": {},
   "source": [
    "## Prepration and setting: \n",
    "### To demonstrate effectiveness of per-iteration of KISSGP and GSGP operators, we need K and W. \n",
    "### Also, for a fair comparison, we will consider an optimal setting (i.e. hyperparameters and number of inducing points) reported for KISSGP in Wilson et al. ICML 2015."
   ]
  },
  {
   "cell_type": "code",
   "execution_count": 3,
   "id": "1df1dccf-5a85-4b7b-8d6e-0866a1d824ca",
   "metadata": {},
   "outputs": [],
   "source": [
    "## Loading sound dataset and computing kernel matrix for sound datast\n",
    "\n",
    "class KFunc(GpModel):\n",
    "    def __init__(self, grid, dtype):\n",
    "        super().__init__()\n",
    "        self.covar_module = GridInterpolationKernel(\n",
    "            base_kernel=ScaleKernel(RBFKernel(ard_num_dims=1)),\n",
    "            grid=grid,\n",
    "            dtype=dtype,\n",
    "            num_dims=1\n",
    "        )\n",
    "            \n",
    "def compute_K(train_x, grid):\n",
    "    kfunc = KFunc(grid=grid, dtype=train_x.dtype)\n",
    "    hypers = {\n",
    "    'covar_module.base_kernel.raw_outputscale': -5.950943552288058, \n",
    "    'covar_module.base_kernel.base_kernel.raw_lengthscale': 10.895852088928223\n",
    "    }\n",
    "    kfunc.initialize(**hypers)\n",
    "    return kfunc.covar_module._inducing_forward(is_kmm=True)\n",
    "    \n",
    "\n",
    "        \n",
    "config = Structdict()\n",
    "config['data_type'] = DatasetType.SOUND\n",
    "data_loader=DataLoader(config=config)\n",
    "\n",
    "train_x, train_y, test_x, test_y = data_loader.get_data()\n",
    "grid =  [(1, 60000, 8000)]\n",
    "W = get_basis(train_x, grid)\n",
    "sigma = softplus(-10.966407775878906/2)\n",
    "K_u = compute_K(train_x, grid)\n"
   ]
  },
  {
   "cell_type": "markdown",
   "id": "9b89a837-4f96-464e-adcd-a41ade6b405b",
   "metadata": {},
   "source": [
    "## Recall KISSGP operator: WKW' + sigma^2 I. Let's compute MVM time for the same."
   ]
  },
  {
   "cell_type": "code",
   "execution_count": 4,
   "id": "863a8d0a-eb8a-459d-aaf6-ec6701ba2e74",
   "metadata": {},
   "outputs": [
    {
     "name": "stdout",
     "output_type": "stream",
     "text": [
      "2.64 ms ± 88.2 µs per loop (mean ± std. dev. of 7 runs, 100 loops each)\n"
     ]
    }
   ],
   "source": [
    "\n",
    "kissgp_ops = KissGpLinearOperator(W, K_u, sigma, train_x.dtype)\n",
    "kissgp_result = %timeit -o kissgp_ops@np.random.rand(kissgp_ops.shape[-1])"
   ]
  },
  {
   "cell_type": "markdown",
   "id": "8381f239-0ced-49fb-9a3f-50f09708a5bd",
   "metadata": {},
   "source": [
    "## Recall GSGP operator: KW'W + sigma^2 I. Let's compute MVM time for the same."
   ]
  },
  {
   "cell_type": "code",
   "execution_count": 5,
   "id": "8309a665-a283-4ca7-8fff-1567378054f0",
   "metadata": {},
   "outputs": [
    {
     "name": "stdout",
     "output_type": "stream",
     "text": [
      "1.28 ms ± 20.8 µs per loop (mean ± std. dev. of 7 runs, 1000 loops each)\n"
     ]
    }
   ],
   "source": [
    "WT_times_W = fm.Sparse((W.T * W).tocsr())\n",
    "WT_times_Y = W.T * train_y\n",
    "YT_times_Y = train_y.T @ train_y\n",
    "\n",
    "gsgp_ops = GsGpLinearOperator(WTW=WT_times_W, kmm=K_u, sigma=sigma, dtype=train_x.dtype)\n",
    "    \n",
    "    \n",
    "gsgp_result = %timeit -o gsgp_ops@np.random.rand(gsgp_ops.shape[-1])"
   ]
  },
  {
   "cell_type": "markdown",
   "id": "a63f34c6-aee6-4a52-9522-76ee2b3cefae",
   "metadata": {},
   "source": [
    "## Expected speed up calculation:"
   ]
  },
  {
   "cell_type": "code",
   "execution_count": 6,
   "id": "ac4a1387-1b01-41f2-874a-66d5f7546de0",
   "metadata": {},
   "outputs": [
    {
     "name": "stdout",
     "output_type": "stream",
     "text": [
      "GSGP took  0.4847099358887178 fraction of KISSGP!\n"
     ]
    }
   ],
   "source": [
    "print(\"GSGP took \", gsgp_result.average /  kissgp_result.average , \"fraction of KISSGP!\") # Expected ~ 0.5."
   ]
  }
 ],
 "metadata": {
  "kernelspec": {
   "display_name": "Python 3 (ipykernel)",
   "language": "python",
   "name": "python3"
  },
  "language_info": {
   "codemirror_mode": {
    "name": "ipython",
    "version": 3
   },
   "file_extension": ".py",
   "mimetype": "text/x-python",
   "name": "python",
   "nbconvert_exporter": "python",
   "pygments_lexer": "ipython3",
   "version": "3.7.10"
  }
 },
 "nbformat": 4,
 "nbformat_minor": 5
}
