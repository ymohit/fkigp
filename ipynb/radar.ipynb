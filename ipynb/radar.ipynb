{
 "cells": [
  {
   "cell_type": "code",
   "execution_count": 1,
   "metadata": {},
   "outputs": [],
   "source": [
    "%load_ext autoreload\n",
    "%autoreload 2\n",
    "\n",
    "\n",
    "import yaml \n",
    "import time\n",
    "import pickle \n",
    "import warnings\n",
    "import scipy\n",
    "import scipy.sparse.linalg\n",
    "from collections import defaultdict\n",
    "\n",
    "from numpy import matrix, asmatrix\n",
    "from scipy.sparse.sputils import asmatrix\n",
    "\n",
    "import random\n",
    "import numpy as np\n",
    "import fastmat as fm  # need 0.2a3 or later?\n",
    "\n",
    "import matplotlib.gridspec as gridspec\n",
    "warnings.filterwarnings(\"ignore\")\n",
    "from pylab import rcParams\n",
    "from matplotlib import container\n",
    "from matplotlib import pyplot as plt\n",
    "from IPython.core.display import  HTML\n",
    "\n",
    "import os, sys\n",
    "module_path = os.path.abspath(os.path.join('../../../'))\n",
    "if module_path not in sys.path:\n",
    "    sys.path.append(module_path)\n",
    "os.environ['PRJ'] = os.environ['HOME'] + \"/skigp/\"\n",
    "\n",
    "#from src.nmpy.solvers import cg\n",
    "random.seed(1337)\n",
    "np.random.seed(1337)\n",
    "\n",
    "\n",
    "import os \n",
    "import decimal\n",
    "from collections import defaultdict\n",
    "# create a new context for this task\n",
    "ctx = decimal.Context()\n",
    "\n",
    "# 20 digits should be enough for everyone :D\n",
    "ctx.prec = 4\n",
    "\n",
    "def float_to_str(f):\n",
    "    \"\"\"\n",
    "    Convert the given float to a string,\n",
    "    without resorting to scientific notation\n",
    "    \"\"\"\n",
    "    d1 = ctx.create_decimal(repr(f))\n",
    "    return format(d1, 'f')"
   ]
  },
  {
   "cell_type": "code",
   "execution_count": 2,
   "metadata": {},
   "outputs": [],
   "source": [
    "# Importing required packages \n",
    "\n",
    "from fkigp.configs import GridSizeFunc, get_radar_grid\n",
    "\n",
    "from experiments.plotting import get_fmt, M_rep, plot_attribute_gs, attributes"
   ]
  },
  {
   "cell_type": "code",
   "execution_count": 3,
   "metadata": {},
   "outputs": [],
   "source": [
    "class RadarDataDump(object):\n",
    "    \n",
    "    def __init__(self, fname):\n",
    "        self.fname = fname\n",
    "        self.data = None \n",
    "        assert os.path.exists(fname), fname + \" does not exists!\"\n",
    "        self.extract_values(fname)\n",
    "        \n",
    "    def extract_values(self, fname):\n",
    "        assert os.path.exists(fname), fname\n",
    "        self.data = yaml.load(open(fname))\n",
    "        \n",
    "    def get_att(self, att_name='#iters'):\n",
    "        attributes = ['#iters', \"time/iter\", 'total', \"data_time\", 'inf_time']\n",
    "        if att_name == attributes[0]:\n",
    "            return self.data['num_iters']\n",
    "        elif att_name == attributes[1]:\n",
    "            return self.data['inf_time'] / self.data['num_iters']\n",
    "        elif att_name == attributes[4]:\n",
    "            return self.data['inf_time']\n",
    "        else:\n",
    "            raise NotImplementedError"
   ]
  },
  {
   "cell_type": "code",
   "execution_count": 4,
   "metadata": {},
   "outputs": [],
   "source": [
    "def read_dumps(class_, sweep_id = '0akrbkhi'):\n",
    "        \n",
    "    log_dir_path = os.environ['PRJ'] + 'logs/radar/' + sweep_id \n",
    "\n",
    "    assert os.path.exists(log_dir_path) == True\n",
    "\n",
    "    runs = [log_dir_path + '/' + fname + '/results.yaml' for fname in os.listdir(log_dir_path) if fname.startswith('rid')]\n",
    "\n",
    "    seeds = [1, 23, 67, 971, 23427, 431241, 2423717, 9871]\n",
    "    dumps = {}\n",
    "    for run in runs:\n",
    "        try:\n",
    "            dump = class_(run)\n",
    "        except AssertionError:\n",
    "            pass\n",
    "        \n",
    "        data = dump.data\n",
    "        run_index = seeds.index(data['seed'])\n",
    "        grid_size = np.prod([i[-1] for i in get_radar_grid(data['grid_idx'])]) \n",
    "        dumps[(grid_size, run_index, methods[data['method']-1])] = dump\n",
    "    return dumps\n",
    "\n",
    "methods = ['kissgp', 'gsgp']"
   ]
  },
  {
   "cell_type": "code",
   "execution_count": 5,
   "metadata": {},
   "outputs": [],
   "source": [
    "# Reproducing inference time results, i.e., Figure \n",
    "# means_dumps = read_dumps(RadarDataDump, sweep_id = 'q3leucyf')\n",
    "# plot_attribute_gs(means_dumps, attribute='inf_time', x_logscale=True, y_logscale=True, show_legends=True,\n",
    "#               set_zero_min_y_limit=True, x_label='m', y_label = 'Inference Time (in secs)')"
   ]
  },
  {
   "cell_type": "code",
   "execution_count": 6,
   "metadata": {},
   "outputs": [],
   "source": [
    "# Load dumps corresponding to llk \n",
    "# llk_dumps = read_dumps(RadarDataDump, sweep_id = 'llk_sweepid')\n",
    "\n",
    "#plot_attribute(dumps,attribute='inf_time', x_logscale=True, y_logscale=True, set_zero_min_y_limit=True,\n",
    "#              x_label='m', y_label = 'Log-det Time (in secs)', set_y_limit=-50, show_legends=True)"
   ]
  }
 ],
 "metadata": {
  "kernelspec": {
   "display_name": "Python 3 (ipykernel)",
   "language": "python",
   "name": "python3"
  },
  "language_info": {
   "codemirror_mode": {
    "name": "ipython",
    "version": 3
   },
   "file_extension": ".py",
   "mimetype": "text/x-python",
   "name": "python",
   "nbconvert_exporter": "python",
   "pygments_lexer": "ipython3",
   "version": "3.7.10"
  }
 },
 "nbformat": 4,
 "nbformat_minor": 4
}
